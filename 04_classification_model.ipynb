{
 "cells": [
  {
   "cell_type": "markdown",
   "id": "5a897079",
   "metadata": {},
   "source": [
    "<h2>Classification Model</h2>\n",
    "\n",
    "<h3>Objective:</h3>\n",
    "\n",
    "To classify high-spending customers based on demographics (gender, age group) and purchase attributes (product category and quantity) using the K-Nearest Neighbors algorithm.\n",
    "\n",
    "We are using the feature-engineered dataset that includes encoded categorical variables, numerical features, and a binary target variable High Spender."
   ]
  },
  {
   "cell_type": "code",
   "execution_count": 1,
   "id": "06189563",
   "metadata": {},
   "outputs": [],
   "source": [
    "# Import required libraries\n",
    "# Data Handling\n",
    "import pandas as pd\n",
    "import numpy as np\n",
    "\n",
    "# Visualization\n",
    "import matplotlib.pyplot as plt\n",
    "import seaborn as sns\n",
    "\n",
    "# Preprocessing\n",
    "from sklearn.model_selection import train_test_split\n",
    "from sklearn.preprocessing import StandardScaler\n",
    "from sklearn.metrics import classification_report, confusion_matrix, accuracy_score\n",
    "\n",
    "# KNN Classifier\n",
    "from sklearn.neighbors import KNeighborsClassifier"
   ]
  },
  {
   "cell_type": "code",
   "execution_count": 2,
   "id": "e4e57182",
   "metadata": {},
   "outputs": [
    {
     "data": {
      "text/html": [
       "<div>\n",
       "<style scoped>\n",
       "    .dataframe tbody tr th:only-of-type {\n",
       "        vertical-align: middle;\n",
       "    }\n",
       "\n",
       "    .dataframe tbody tr th {\n",
       "        vertical-align: top;\n",
       "    }\n",
       "\n",
       "    .dataframe thead th {\n",
       "        text-align: right;\n",
       "    }\n",
       "</style>\n",
       "<table border=\"1\" class=\"dataframe\">\n",
       "  <thead>\n",
       "    <tr style=\"text-align: right;\">\n",
       "      <th></th>\n",
       "      <th>Transaction ID</th>\n",
       "      <th>Date</th>\n",
       "      <th>Customer ID</th>\n",
       "      <th>Age</th>\n",
       "      <th>Quantity</th>\n",
       "      <th>Price per Unit</th>\n",
       "      <th>Total Amount</th>\n",
       "      <th>High Spender</th>\n",
       "      <th>Month</th>\n",
       "      <th>Day of Week</th>\n",
       "      <th>Avg Price per Item</th>\n",
       "      <th>Gender_Male</th>\n",
       "      <th>Product Category_Clothing</th>\n",
       "      <th>Product Category_Electronics</th>\n",
       "      <th>Age Group_25-40</th>\n",
       "      <th>Age Group_40-60</th>\n",
       "      <th>Age Group_60+</th>\n",
       "      <th>Gender_Num</th>\n",
       "      <th>AgeGroup_Num</th>\n",
       "      <th>ProductCategory_Num</th>\n",
       "    </tr>\n",
       "  </thead>\n",
       "  <tbody>\n",
       "    <tr>\n",
       "      <th>0</th>\n",
       "      <td>1</td>\n",
       "      <td>2023-11-24</td>\n",
       "      <td>CUST001</td>\n",
       "      <td>34</td>\n",
       "      <td>3</td>\n",
       "      <td>50</td>\n",
       "      <td>150</td>\n",
       "      <td>0</td>\n",
       "      <td>11</td>\n",
       "      <td>4</td>\n",
       "      <td>50.0</td>\n",
       "      <td>True</td>\n",
       "      <td>False</td>\n",
       "      <td>False</td>\n",
       "      <td>True</td>\n",
       "      <td>False</td>\n",
       "      <td>False</td>\n",
       "      <td>0</td>\n",
       "      <td>2</td>\n",
       "      <td>3</td>\n",
       "    </tr>\n",
       "    <tr>\n",
       "      <th>1</th>\n",
       "      <td>2</td>\n",
       "      <td>2023-02-27</td>\n",
       "      <td>CUST002</td>\n",
       "      <td>26</td>\n",
       "      <td>2</td>\n",
       "      <td>500</td>\n",
       "      <td>1000</td>\n",
       "      <td>1</td>\n",
       "      <td>2</td>\n",
       "      <td>0</td>\n",
       "      <td>500.0</td>\n",
       "      <td>False</td>\n",
       "      <td>True</td>\n",
       "      <td>False</td>\n",
       "      <td>True</td>\n",
       "      <td>False</td>\n",
       "      <td>False</td>\n",
       "      <td>1</td>\n",
       "      <td>2</td>\n",
       "      <td>1</td>\n",
       "    </tr>\n",
       "    <tr>\n",
       "      <th>2</th>\n",
       "      <td>3</td>\n",
       "      <td>2023-01-13</td>\n",
       "      <td>CUST003</td>\n",
       "      <td>50</td>\n",
       "      <td>1</td>\n",
       "      <td>30</td>\n",
       "      <td>30</td>\n",
       "      <td>0</td>\n",
       "      <td>1</td>\n",
       "      <td>4</td>\n",
       "      <td>30.0</td>\n",
       "      <td>True</td>\n",
       "      <td>False</td>\n",
       "      <td>True</td>\n",
       "      <td>False</td>\n",
       "      <td>True</td>\n",
       "      <td>False</td>\n",
       "      <td>0</td>\n",
       "      <td>3</td>\n",
       "      <td>2</td>\n",
       "    </tr>\n",
       "    <tr>\n",
       "      <th>3</th>\n",
       "      <td>4</td>\n",
       "      <td>2023-05-21</td>\n",
       "      <td>CUST004</td>\n",
       "      <td>37</td>\n",
       "      <td>1</td>\n",
       "      <td>500</td>\n",
       "      <td>500</td>\n",
       "      <td>0</td>\n",
       "      <td>5</td>\n",
       "      <td>6</td>\n",
       "      <td>500.0</td>\n",
       "      <td>True</td>\n",
       "      <td>True</td>\n",
       "      <td>False</td>\n",
       "      <td>True</td>\n",
       "      <td>False</td>\n",
       "      <td>False</td>\n",
       "      <td>0</td>\n",
       "      <td>2</td>\n",
       "      <td>1</td>\n",
       "    </tr>\n",
       "    <tr>\n",
       "      <th>4</th>\n",
       "      <td>5</td>\n",
       "      <td>2023-05-06</td>\n",
       "      <td>CUST005</td>\n",
       "      <td>30</td>\n",
       "      <td>2</td>\n",
       "      <td>50</td>\n",
       "      <td>100</td>\n",
       "      <td>0</td>\n",
       "      <td>5</td>\n",
       "      <td>5</td>\n",
       "      <td>50.0</td>\n",
       "      <td>True</td>\n",
       "      <td>False</td>\n",
       "      <td>False</td>\n",
       "      <td>True</td>\n",
       "      <td>False</td>\n",
       "      <td>False</td>\n",
       "      <td>0</td>\n",
       "      <td>2</td>\n",
       "      <td>3</td>\n",
       "    </tr>\n",
       "  </tbody>\n",
       "</table>\n",
       "</div>"
      ],
      "text/plain": [
       "   Transaction ID        Date Customer ID  Age  Quantity  Price per Unit  \\\n",
       "0               1  2023-11-24     CUST001   34         3              50   \n",
       "1               2  2023-02-27     CUST002   26         2             500   \n",
       "2               3  2023-01-13     CUST003   50         1              30   \n",
       "3               4  2023-05-21     CUST004   37         1             500   \n",
       "4               5  2023-05-06     CUST005   30         2              50   \n",
       "\n",
       "   Total Amount  High Spender  Month  Day of Week  Avg Price per Item  \\\n",
       "0           150             0     11            4                50.0   \n",
       "1          1000             1      2            0               500.0   \n",
       "2            30             0      1            4                30.0   \n",
       "3           500             0      5            6               500.0   \n",
       "4           100             0      5            5                50.0   \n",
       "\n",
       "   Gender_Male  Product Category_Clothing  Product Category_Electronics  \\\n",
       "0         True                      False                         False   \n",
       "1        False                       True                         False   \n",
       "2         True                      False                          True   \n",
       "3         True                       True                         False   \n",
       "4         True                      False                         False   \n",
       "\n",
       "   Age Group_25-40  Age Group_40-60  Age Group_60+  Gender_Num  AgeGroup_Num  \\\n",
       "0             True            False          False           0             2   \n",
       "1             True            False          False           1             2   \n",
       "2            False             True          False           0             3   \n",
       "3             True            False          False           0             2   \n",
       "4             True            False          False           0             2   \n",
       "\n",
       "   ProductCategory_Num  \n",
       "0                    3  \n",
       "1                    1  \n",
       "2                    2  \n",
       "3                    1  \n",
       "4                    3  "
      ]
     },
     "execution_count": 2,
     "metadata": {},
     "output_type": "execute_result"
    }
   ],
   "source": [
    "# Load the feature-engineered data\n",
    "df = pd.read_csv(\"data/processed/processed_data.csv\")\n",
    "df.head()"
   ]
  },
  {
   "cell_type": "code",
   "execution_count": null,
   "id": "8cbc202b",
   "metadata": {},
   "outputs": [
    {
     "name": "stdout",
     "output_type": "stream",
     "text": [
      "Index(['Transaction ID', 'Date', 'Customer ID', 'Age', 'Quantity',\n",
      "       'Price per Unit', 'Total Amount', 'High Spender', 'Month',\n",
      "       'Day of Week', 'Avg Price per Item', 'Gender_Male',\n",
      "       'Product Category_Clothing', 'Product Category_Electronics',\n",
      "       'Age Group_25-40', 'Age Group_40-60', 'Age Group_60+', 'Gender_Num',\n",
      "       'AgeGroup_Num', 'ProductCategory_Num'],\n",
      "      dtype='object')\n"
     ]
    }
   ],
   "source": [
    "# Select Features and Target Variable\n",
    "\n",
    "# feature variables\n",
    "X = df[['Gender_Num', 'AgeGroup_Num', 'ProductCategory_Num', 'Quantity']]\n",
    "\n"
   ]
  },
  {
   "cell_type": "markdown",
   "id": "9b2491e1",
   "metadata": {},
   "source": [
    "**Defining Target variable High Spenders:**\n",
    "\n",
    "Since we want to classify top-spending customers, we define a new target variable HighSpender.\n",
    "Any customer whose Total Purchase Amount is in the top 25% of the data (≥ 75th percentile) is labeled as:\n",
    "\n",
    "1 - High Spender\n",
    "\n",
    "0 - Otherwise"
   ]
  },
  {
   "cell_type": "code",
   "execution_count": 10,
   "id": "12b78ed4",
   "metadata": {},
   "outputs": [
    {
     "name": "stdout",
     "output_type": "stream",
     "text": [
      "HighSpender\n",
      "0    798\n",
      "1    202\n",
      "Name: count, dtype: int64\n"
     ]
    }
   ],
   "source": [
    "# Target variable\n",
    "threshold = df['Total Amount'].quantile(0.75)\n",
    "df['HighSpender'] = (df['Total Amount'] > threshold).astype(int)\n",
    "\n",
    "print(df['HighSpender'].value_counts())\n",
    "\n",
    "y = df['HighSpender']"
   ]
  },
  {
   "cell_type": "markdown",
   "id": "5a5f5e0f",
   "metadata": {},
   "source": [
    "**Split the Data**\n",
    "\n",
    "We use an 75-25 train-test split to train the model on 75% of the data and test it on 25%.\n",
    "We also stratify the split to maintain the same class distribution of high spenders vs non-high spenders in both sets."
   ]
  },
  {
   "cell_type": "code",
   "execution_count": null,
   "id": "1e7688ce",
   "metadata": {},
   "outputs": [],
   "source": [
    "#Train-Test Split\n",
    "\n",
    "X_train, X_test, y_train, y_test = train_test_split(\n",
    "    X, y, test_size=0.25, random_state=42, stratify=y\n",
    ")"
   ]
  },
  {
   "cell_type": "markdown",
   "id": "03ce212a",
   "metadata": {},
   "source": [
    "**Scale the Features:**\n",
    "\n",
    "KNN is a distance-based algorithm and is sensitive to the magnitude of features.\n",
    "We standardize the data using StandardScaler to give each feature a mean of 0 and standard deviation of 1.\n",
    "\n",
    "KNN is distance-based, so we standardized the features using Z-score normalization:\n",
    "\n",
    "z= (x−μ)/σ \n",
    " \n",
    "This ensures no feature (like Quantity) dominates others (like Gender)."
   ]
  },
  {
   "cell_type": "code",
   "execution_count": null,
   "id": "bac9f48c",
   "metadata": {},
   "outputs": [],
   "source": [
    "scaler = StandardScaler()\n",
    "X_train_scaled = scaler.fit_transform(X_train)\n",
    "X_test_scaled = scaler.transform(X_test)"
   ]
  },
  {
   "cell_type": "markdown",
   "id": "852c8050",
   "metadata": {},
   "source": [
    "**Best value for K:**\n",
    "\n",
    "To find the best number of neighbors (k), we plot the error rate for values between 1 and 20.\n",
    "This helps us select the optimal k that balances bias and variance."
   ]
  },
  {
   "cell_type": "code",
   "execution_count": 45,
   "id": "fb07a993",
   "metadata": {},
   "outputs": [
    {
     "data": {
      "image/png": "[encoded data removed]",
      "text/plain": [
       "<Figure size 1000x600 with 1 Axes>"
      ]
     },
     "metadata": {},
     "output_type": "display_data"
    },
    {
     "name": "stdout",
     "output_type": "stream",
     "text": [
      "The best value of k is: 2\n"
     ]
    }
   ],
   "source": [
    "# Try different values of k to see performance\n",
    "error_rate = []\n",
    "\n",
    "for k in range(1, 21):\n",
    "    knn_temp = KNeighborsClassifier(n_neighbors=k)\n",
    "    knn_temp.fit(X_train_scaled, y_train)\n",
    "    pred_k = knn_temp.predict(X_test_scaled)\n",
    "    error_rate.append(np.mean(pred_k != y_test))\n",
    "\n",
    "# Plot the error rate\n",
    "plt.figure(figsize=(10,6))\n",
    "plt.plot(range(1,21), error_rate, color='blue', linestyle='dashed', marker='*',\n",
    "         markerfacecolor='red', markersize=8)\n",
    "plt.title('Error Rate vs. K Value')\n",
    "plt.xlabel('K')\n",
    "plt.ylabel('Mean Error')\n",
    "plt.grid(True)\n",
    "plt.show()\n",
    "\n",
    "best_k = error_rate.index(min(error_rate)) + 1  # +1 because range starts at 1\n",
    "print(f\"The best value of k is: {best_k}\")\n",
    " "
   ]
  },
  {
   "cell_type": "markdown",
   "id": "29ba33d4",
   "metadata": {},
   "source": [
    "**Train KNN**\n",
    "\n",
    "We create a KNN classifier using k neighbors after finding the best value for K by Hyperparameter Tuning.\n",
    "KNN works by comparing each test point to the k closest training points and assigning the majority class among them."
   ]
  },
  {
   "cell_type": "markdown",
   "id": "a7b7f1de",
   "metadata": {},
   "source": [
    "**KNN Distance Calculations:**\n",
    "\n",
    "Compute distance to all training points using Euclidean distance formula:\n",
    "\n",
    "distance: $d = \\sqrt{(x_1 - x_1')^2 + (x_2 - x_2')^2 + \\dots + (x_n - x_n')^2}$\n",
    "\n",
    "It picks K closest points from training set using the above distance.\n",
    "\n",
    "For classification, KNN checks the most frequent class among the k nearest neighbors.\n",
    "\n",
    "**Example:**\n",
    "\n",
    "If k=5 and the nearest neighbors have labels [1, 0, 1, 1, 0] → the predicted label is 1 (majority).\n",
    "\n",
    "In case of a tie, behavior depends on the implementation (e.g., some libraries break ties by choosing the class with the lower label)."
   ]
  },
  {
   "cell_type": "code",
   "execution_count": 46,
   "id": "688efc3c",
   "metadata": {},
   "outputs": [
    {
     "data": {
      "text/html": [
       "<style>#sk-container-id-11 {color: black;background-color: white;}#sk-container-id-11 pre{padding: 0;}#sk-container-id-11 div.sk-toggleable {background-color: white;}#sk-container-id-11 label.sk-toggleable__label {cursor: pointer;display: block;width: 100%;margin-bottom: 0;padding: 0.3em;box-sizing: border-box;text-align: center;}#sk-container-id-11 label.sk-toggleable__label-arrow:before {content: \"▸\";float: left;margin-right: 0.25em;color: #696969;}#sk-container-id-11 label.sk-toggleable__label-arrow:hover:before {color: black;}#sk-container-id-11 div.sk-estimator:hover label.sk-toggleable__label-arrow:before {color: black;}#sk-container-id-11 div.sk-toggleable__content {max-height: 0;max-width: 0;overflow: hidden;text-align: left;background-color: #f0f8ff;}#sk-container-id-11 div.sk-toggleable__content pre {margin: 0.2em;color: black;border-radius: 0.25em;background-color: #f0f8ff;}#sk-container-id-11 input.sk-toggleable__control:checked~div.sk-toggleable__content {max-height: 200px;max-width: 100%;overflow: auto;}#sk-container-id-11 input.sk-toggleable__control:checked~label.sk-toggleable__label-arrow:before {content: \"▾\";}#sk-container-id-11 div.sk-estimator input.sk-toggleable__control:checked~label.sk-toggleable__label {background-color: #d4ebff;}#sk-container-id-11 div.sk-label input.sk-toggleable__control:checked~label.sk-toggleable__label {background-color: #d4ebff;}#sk-container-id-11 input.sk-hidden--visually {border: 0;clip: rect(1px 1px 1px 1px);clip: rect(1px, 1px, 1px, 1px);height: 1px;margin: -1px;overflow: hidden;padding: 0;position: absolute;width: 1px;}#sk-container-id-11 div.sk-estimator {font-family: monospace;background-color: #f0f8ff;border: 1px dotted black;border-radius: 0.25em;box-sizing: border-box;margin-bottom: 0.5em;}#sk-container-id-11 div.sk-estimator:hover {background-color: #d4ebff;}#sk-container-id-11 div.sk-parallel-item::after {content: \"\";width: 100%;border-bottom: 1px solid gray;flex-grow: 1;}#sk-container-id-11 div.sk-label:hover label.sk-toggleable__label {background-color: #d4ebff;}#sk-container-id-11 div.sk-serial::before {content: \"\";position: absolute;border-left: 1px solid gray;box-sizing: border-box;top: 0;bottom: 0;left: 50%;z-index: 0;}#sk-container-id-11 div.sk-serial {display: flex;flex-direction: column;align-items: center;background-color: white;padding-right: 0.2em;padding-left: 0.2em;position: relative;}#sk-container-id-11 div.sk-item {position: relative;z-index: 1;}#sk-container-id-11 div.sk-parallel {display: flex;align-items: stretch;justify-content: center;background-color: white;position: relative;}#sk-container-id-11 div.sk-item::before, #sk-container-id-11 div.sk-parallel-item::before {content: \"\";position: absolute;border-left: 1px solid gray;box-sizing: border-box;top: 0;bottom: 0;left: 50%;z-index: -1;}#sk-container-id-11 div.sk-parallel-item {display: flex;flex-direction: column;z-index: 1;position: relative;background-color: white;}#sk-container-id-11 div.sk-parallel-item:first-child::after {align-self: flex-end;width: 50%;}#sk-container-id-11 div.sk-parallel-item:last-child::after {align-self: flex-start;width: 50%;}#sk-container-id-11 div.sk-parallel-item:only-child::after {width: 0;}#sk-container-id-11 div.sk-dashed-wrapped {border: 1px dashed gray;margin: 0 0.4em 0.5em 0.4em;box-sizing: border-box;padding-bottom: 0.4em;background-color: white;}#sk-container-id-11 div.sk-label label {font-family: monospace;font-weight: bold;display: inline-block;line-height: 1.2em;}#sk-container-id-11 div.sk-label-container {text-align: center;}#sk-container-id-11 div.sk-container {/* jupyter's `normalize.less` sets `[hidden] { display: none; }` but bootstrap.min.css set `[hidden] { display: none !important; }` so we also need the `!important` here to be able to override the default hidden behavior on the sphinx rendered scikit-learn.org. See: https://github.com/scikit-learn/scikit-learn/issues/21755 */display: inline-block !important;position: relative;}#sk-container-id-11 div.sk-text-repr-fallback {display: none;}</style><div id=\"sk-container-id-11\" class=\"sk-top-container\"><div class=\"sk-text-repr-fallback\"><pre>KNeighborsClassifier(n_neighbors=2)</pre><b>In a Jupyter environment, please rerun this cell to show the HTML representation or trust the notebook. <br />On GitHub, the HTML representation is unable to render, please try loading this page with nbviewer.org.</b></div><div class=\"sk-container\" hidden><div class=\"sk-item\"><div class=\"sk-estimator sk-toggleable\"><input class=\"sk-toggleable__control sk-hidden--visually\" id=\"sk-estimator-id-11\" type=\"checkbox\" checked><label for=\"sk-estimator-id-11\" class=\"sk-toggleable__label sk-toggleable__label-arrow\">KNeighborsClassifier</label><div class=\"sk-toggleable__content\"><pre>KNeighborsClassifier(n_neighbors=2)</pre></div></div></div></div></div>"
      ],
      "text/plain": [
       "KNeighborsClassifier(n_neighbors=2)"
      ]
     },
     "execution_count": 46,
     "metadata": {},
     "output_type": "execute_result"
    }
   ],
   "source": [
    "knn = KNeighborsClassifier(n_neighbors=best_k)\n",
    "knn.fit(X_train_scaled, y_train)"
   ]
  },
  {
   "cell_type": "code",
   "execution_count": 47,
   "id": "a8d1f494",
   "metadata": {},
   "outputs": [
    {
     "name": "stdout",
     "output_type": "stream",
     "text": [
      "Confusion Matrix:\n",
      " [[191   9]\n",
      " [ 39  11]]\n",
      "\n",
      "Classification Report:\n",
      "               precision    recall  f1-score   support\n",
      "\n",
      "           0       0.83      0.95      0.89       200\n",
      "           1       0.55      0.22      0.31        50\n",
      "\n",
      "    accuracy                           0.81       250\n",
      "   macro avg       0.69      0.59      0.60       250\n",
      "weighted avg       0.77      0.81      0.77       250\n",
      "\n",
      "Accuracy Score: 0.808\n"
     ]
    }
   ],
   "source": [
    "# Predict on the test set\n",
    "y_pred = knn.predict(X_test_scaled)\n",
    "\n",
    "# Evaluation metrics\n",
    "print(\"Confusion Matrix:\\n\", confusion_matrix(y_test, y_pred))\n",
    "print(\"\\nClassification Report:\\n\", classification_report(y_test, y_pred))\n",
    "print(\"Accuracy Score:\", accuracy_score(y_test, y_pred))"
   ]
  },
  {
   "cell_type": "code",
   "execution_count": 53,
   "id": "43d664ca",
   "metadata": {},
   "outputs": [
    {
     "data": {
      "image/png": "[encoded data removed]",
      "text/plain": [
       "<Figure size 600x400 with 2 Axes>"
      ]
     },
     "metadata": {},
     "output_type": "display_data"
    }
   ],
   "source": [
    "# Visualize confusion matrix using seaborn\n",
    "from sklearn.metrics import ConfusionMatrixDisplay\n",
    "\n",
    "plt.figure(figsize=(6,4))\n",
    "sns.heatmap(confusion_matrix(y_test, y_pred), \n",
    "            annot=True, fmt='d', cmap='Reds', \n",
    "            xticklabels=['Not High Spender', 'High Spender'],\n",
    "            yticklabels=['Not High Spender', 'High Spender'])\n",
    "plt.xlabel('Predicted')\n",
    "plt.ylabel('Actual')\n",
    "plt.title('Confusion Matrix')\n",
    "plt.show()"
   ]
  },
  {
   "cell_type": "markdown",
   "id": "ee7630ff",
   "metadata": {},
   "source": [
    "**Confusion Matrix Visualization:**\n",
    "\n",
    "This heatmap shows how well the classifier predicted the two classes:\n",
    "\n",
    "True Positives (TP): 11 - Correctly predicted high spenders\n",
    "\n",
    "True Negatives (TN): 191 - Correctly predicted non-high spenders\n",
    "\n",
    "False Positives (FP): 9 - Non-high spenders misclassified as high\n",
    "\n",
    "False Negatives (FN): 39 - High spenders missed by the model\n",
    "\n",
    "It helps identify if the model is biased toward one class or struggles with imbalanced data."
   ]
  },
  {
   "cell_type": "markdown",
   "id": "25f925cc",
   "metadata": {},
   "source": [
    "Model Performance Summary\n",
    "\n",
    " Metric                              | Value                                                      |\n",
    "| ----------------------------------- | ---------------------------------------------------------- |\n",
    "| Best `k`                            | **2**                                                      |\n",
    "| Accuracy                            | **80.8%**                                                  |\n",
    "| Precision (High Spenders - Class 1) | **55%**                                                    |\n",
    "| Recall (High Spenders - Class 1)    | **22%**                                                    |\n",
    "| F1 Score (High Spenders)            | **31%**                                                    |\n"
   ]
  },
  {
   "cell_type": "markdown",
   "id": "51e6734a",
   "metadata": {},
   "source": [
    "**Key Observations:**\n",
    "* The overall accuracy (81%) is relatively strong — indicating the model performs well in general.\n",
    "\n",
    "* However, recall for high spenders is low (22%) — the model misses a large portion of actual high spenders. This means it's conservative in flagging someone as a high spender.\n",
    "\n",
    "* Precision for high spenders is 55% — when the model does predict someone as a high spender, it is right about half the time.\n",
    "\n",
    "* The model favors majority class (non-high spenders), which is expected due to class imbalance (only 50 out of 250 test samples are high spenders)."
   ]
  }
 ],
 "metadata": {
  "kernelspec": {
   "display_name": "dsi_participant",
   "language": "python",
   "name": "python3"
  },
  "language_info": {
   "codemirror_mode": {
    "name": "ipython",
    "version": 3
   },
   "file_extension": ".py",
   "mimetype": "text/x-python",
   "name": "python",
   "nbconvert_exporter": "python",
   "pygments_lexer": "ipython3",
   "version": "3.9.15"
  }
 },
 "nbformat": 4,
 "nbformat_minor": 5
}
